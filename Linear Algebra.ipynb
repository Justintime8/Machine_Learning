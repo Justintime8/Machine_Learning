{
 "cells": [
  {
   "cell_type": "code",
   "execution_count": 4,
   "id": "collaborative-uganda",
   "metadata": {},
   "outputs": [],
   "source": [
    "# import modules\n",
    "import numpy as np\n",
    "import matplotlib.pyplot as plt\n",
    "from mpl_toolkits.mplot3d import Axes3D"
   ]
  },
  {
   "cell_type": "code",
   "execution_count": 5,
   "id": "flying-netherlands",
   "metadata": {},
   "outputs": [
    {
     "data": {
      "text/plain": [
       "array([ 1. ,  2.5,  4. ,  5.5,  7. ,  8.5, 10. ])"
      ]
     },
     "execution_count": 5,
     "metadata": {},
     "output_type": "execute_result"
    }
   ],
   "source": [
    "np.linspace(1,10,7)"
   ]
  },
  {
   "cell_type": "code",
   "execution_count": 16,
   "id": "laughing-blogger",
   "metadata": {},
   "outputs": [
    {
     "data": {
      "text/plain": [
       "array([4, 8])"
      ]
     },
     "execution_count": 16,
     "metadata": {},
     "output_type": "execute_result"
    }
   ],
   "source": [
    "vec = np.array([2,4])\n",
    "s = 2\n",
    "\n",
    "vec*s"
   ]
  },
  {
   "cell_type": "code",
   "execution_count": 11,
   "id": "floating-egyptian",
   "metadata": {},
   "outputs": [
    {
     "data": {
      "text/plain": [
       "1"
      ]
     },
     "execution_count": 11,
     "metadata": {},
     "output_type": "execute_result"
    }
   ],
   "source": [
    "vec2d = np.array([1,2])\n",
    "s1 = 2\n",
    "s2 = .5\n",
    "s3 = -1\n",
    "\n",
    "# indexing\n",
    "vec2d[0]"
   ]
  },
  {
   "cell_type": "code",
   "execution_count": 15,
   "id": "boring-teach",
   "metadata": {},
   "outputs": [
    {
     "data": {
      "image/png": "[encoded data removed]",
      "text/plain": [
       "<Figure size 432x288 with 1 Axes>"
      ]
     },
     "metadata": {
      "needs_background": "light"
     },
     "output_type": "display_data"
    }
   ],
   "source": [
    "plt.plot([0, vec2d[0]], [0,vec2d[1]], 'bs-')\n",
    "plt.plot([0, s1*vec2d[0]], [0,vec2d[1]], 'ro-', label='v*s1')\n",
    "plt.plot([0, s2*vec2d[0]], [0,vec2d[1]], 'kp-', label='v*s2')\n",
    "plt.plot([0, s3*vec2d[0]], [0,vec2d[1]], 'g*-', label='v*s3')\n",
    "\n",
    "plt.axis('square')\n",
    "plt.xlim([-4,4])\n",
    "plt.ylim([-4,4])\n",
    "plt.grid()\n",
    "plt.legend()\n",
    "plt.show()"
   ]
  },
  {
   "cell_type": "code",
   "execution_count": 22,
   "id": "caring-friendly",
   "metadata": {},
   "outputs": [],
   "source": [
    "vec3 = vec+vec2d\n"
   ]
  },
  {
   "cell_type": "code",
   "execution_count": 24,
   "id": "filled-criticism",
   "metadata": {},
   "outputs": [
    {
     "name": "stdout",
     "output_type": "stream",
     "text": [
      "[3 6]\n"
     ]
    }
   ],
   "source": [
    "print(vec3)"
   ]
  },
  {
   "cell_type": "code",
   "execution_count": 25,
   "id": "noble-dating",
   "metadata": {},
   "outputs": [
    {
     "data": {
      "text/plain": [
       "array([3, 6])"
      ]
     },
     "execution_count": 25,
     "metadata": {},
     "output_type": "execute_result"
    }
   ],
   "source": [
    "vec+vec2d"
   ]
  },
  {
   "cell_type": "code",
   "execution_count": 26,
   "id": "british-temperature",
   "metadata": {},
   "outputs": [
    {
     "data": {
      "text/plain": [
       "25"
      ]
     },
     "execution_count": 26,
     "metadata": {},
     "output_type": "execute_result"
    }
   ],
   "source": [
    "v1 = np.array([5,6,2])\n",
    "v2 = np.array([3,0,5])\n",
    "\n",
    "np.dot(v1,v2)"
   ]
  },
  {
   "cell_type": "code",
   "execution_count": 27,
   "id": "under-philippines",
   "metadata": {},
   "outputs": [
    {
     "data": {
      "text/plain": [
       "-7"
      ]
     },
     "execution_count": 27,
     "metadata": {},
     "output_type": "execute_result"
    }
   ],
   "source": [
    "v3 = np.array([-4,3,1])\n",
    "\n",
    "np.dot(v2,v3)"
   ]
  },
  {
   "cell_type": "code",
   "execution_count": 28,
   "id": "welsh-shopping",
   "metadata": {},
   "outputs": [
    {
     "data": {
      "text/plain": [
       "array([[1., 0., 0.],\n",
       "       [0., 1., 0.],\n",
       "       [0., 0., 1.]])"
      ]
     },
     "execution_count": 28,
     "metadata": {},
     "output_type": "execute_result"
    }
   ],
   "source": [
    "# Identity Matrix\n",
    "np.eye(3)"
   ]
  },
  {
   "cell_type": "code",
   "execution_count": 29,
   "id": "exact-cradle",
   "metadata": {},
   "outputs": [
    {
     "data": {
      "text/plain": [
       "array([[0., 0., 0., 0.],\n",
       "       [0., 0., 0., 0.],\n",
       "       [0., 0., 0., 0.]])"
      ]
     },
     "execution_count": 29,
     "metadata": {},
     "output_type": "execute_result"
    }
   ],
   "source": [
    "# Zero Matrix\n",
    "np.zeros((3,4))"
   ]
  },
  {
   "cell_type": "code",
   "execution_count": 31,
   "id": "alone-millennium",
   "metadata": {},
   "outputs": [
    {
     "data": {
      "text/plain": [
       "array([[8, 8],\n",
       "       [8, 8],\n",
       "       [8, 8],\n",
       "       [8, 8],\n",
       "       [8, 8]])"
      ]
     },
     "execution_count": 31,
     "metadata": {},
     "output_type": "execute_result"
    }
   ],
   "source": [
    "# Filling in a Matrix\n",
    "np.full((5,2),8)"
   ]
  },
  {
   "cell_type": "code",
   "execution_count": 34,
   "id": "variable-softball",
   "metadata": {},
   "outputs": [
    {
     "name": "stdout",
     "output_type": "stream",
     "text": [
      "[[1 2 3]\n",
      " [4 5 6]\n",
      " [7 8 9]]\n"
     ]
    }
   ],
   "source": [
    "# Making a Matrix\n",
    "m = np.array([[1,2,3], \n",
    "             [4,5,6], \n",
    "             [7,8,9]])\n",
    "\n",
    "print(m)"
   ]
  },
  {
   "cell_type": "code",
   "execution_count": 36,
   "id": "competitive-diabetes",
   "metadata": {},
   "outputs": [
    {
     "name": "stdout",
     "output_type": "stream",
     "text": [
      "[[ 2  4  6]\n",
      " [ 8 10 12]\n",
      " [14 16 18]]\n"
     ]
    }
   ],
   "source": [
    "J = np.array([[2,4,6],\n",
    "             [8,10,12],\n",
    "             [14,16,18]])\n",
    "print(J)"
   ]
  },
  {
   "cell_type": "code",
   "execution_count": 38,
   "id": "electronic-temperature",
   "metadata": {},
   "outputs": [
    {
     "data": {
      "text/plain": [
       "array([[ 3,  6,  9],\n",
       "       [12, 15, 18],\n",
       "       [21, 24, 27]])"
      ]
     },
     "execution_count": 38,
     "metadata": {},
     "output_type": "execute_result"
    }
   ],
   "source": [
    "J + m"
   ]
  },
  {
   "cell_type": "code",
   "execution_count": 39,
   "id": "dried-bahamas",
   "metadata": {},
   "outputs": [
    {
     "data": {
      "text/plain": [
       "array([[  2,   8,  18],\n",
       "       [ 32,  50,  72],\n",
       "       [ 98, 128, 162]])"
      ]
     },
     "execution_count": 39,
     "metadata": {},
     "output_type": "execute_result"
    }
   ],
   "source": [
    "J*m"
   ]
  },
  {
   "cell_type": "code",
   "execution_count": 40,
   "id": "progressive-particular",
   "metadata": {},
   "outputs": [
    {
     "name": "stdout",
     "output_type": "stream",
     "text": [
      "[[ 2  3 -1]]\n",
      " \n",
      "[[ 2]\n",
      " [ 3]\n",
      " [-1]]\n"
     ]
    }
   ],
   "source": [
    "v1 = np.array([2,3,-1],ndmin=2)\n",
    "\n",
    "print(v1)\n",
    "print(' ')\n",
    "print(v1.T)"
   ]
  },
  {
   "cell_type": "code",
   "execution_count": 45,
   "id": "unusual-mainland",
   "metadata": {},
   "outputs": [
    {
     "name": "stdout",
     "output_type": "stream",
     "text": [
      "[[ -4.  -5.  12.]\n",
      " [ -2.   3. -15.]\n",
      " [ -1.  -5. -26.]]\n",
      " \n",
      "[[ -4.  -2.  -1.]\n",
      " [ -5.   3.  -5.]\n",
      " [ 12. -15. -26.]]\n"
     ]
    }
   ],
   "source": [
    "S = np.round(10*np.random.randn(3,3))\n",
    "\n",
    "print(S)\n",
    "print(' ')\n",
    "print(S.T)"
   ]
  },
  {
   "cell_type": "code",
   "execution_count": 47,
   "id": "gothic-slope",
   "metadata": {},
   "outputs": [
    {
     "name": "stdout",
     "output_type": "stream",
     "text": [
      "[[ -4.  -2.  -1.]\n",
      " [ -5.   3.  -5.]\n",
      " [ 12. -15. -26.]]\n",
      " \n",
      "[[ -4.  -5.  12.]\n",
      " [ -2.   3. -15.]\n",
      " [ -1.  -5. -26.]]\n"
     ]
    }
   ],
   "source": [
    "J = S.T\n",
    "print(J)\n",
    "print(' ')\n",
    "print(J.T)"
   ]
  },
  {
   "cell_type": "code",
   "execution_count": 50,
   "id": "fuzzy-bacteria",
   "metadata": {},
   "outputs": [
    {
     "name": "stdout",
     "output_type": "stream",
     "text": [
      "[[  21.   19.    8.]\n",
      " [  19.   59.   25.]\n",
      " [   8.   25. 1045.]]\n",
      " \n",
      "[[  21.   19.    8.]\n",
      " [  19.   59.   25.]\n",
      " [   8.   25. 1045.]]\n",
      " \n",
      "[[0. 0. 0.]\n",
      " [0. 0. 0.]\n",
      " [0. 0. 0.]]\n"
     ]
    }
   ],
   "source": [
    "# Multiplying Matrices\n",
    "\n",
    "print(np.matmul(J,S))\n",
    "print(' ')\n",
    "print(J@S)\n",
    "print(' ')\n",
    "print(np.matmul(J,S) - J@S)"
   ]
  },
  {
   "cell_type": "code",
   "execution_count": 56,
   "id": "electronic-belize",
   "metadata": {},
   "outputs": [
    {
     "name": "stdout",
     "output_type": "stream",
     "text": [
      "[[ -8. -15.  -4.  12.]\n",
      " [  8.   9. -11.   0.]\n",
      " [ -2.  11.   6.  16.]\n",
      " [  6.  -4.   8.   3.]]\n",
      " \n",
      "[[-0.  1. -0.  1.]\n",
      " [-0.  0.  0. -0.]\n",
      " [-0. -0.  0.  0.]\n",
      " [ 0.  0.  0.  0.]]\n",
      " \n",
      "[[10. -0.  0.  0.]\n",
      " [ 0. 10.  0. -0.]\n",
      " [ 0. -0. 10.  0.]\n",
      " [-0.  0. -0. 10.]]\n"
     ]
    }
   ],
   "source": [
    "S = np.round((10*np.random.randn(4,4)))\n",
    "\n",
    "Sinv = np.linalg.inv(S)\n",
    "\n",
    "SinvS = S@Sinv\n",
    "\n",
    "print(S)\n",
    "print(' ')\n",
    "print(np.round(10*Sinv))\n",
    "print(' ')\n",
    "print(np.round(10*SinvS))"
   ]
  },
  {
   "cell_type": "code",
   "execution_count": 59,
   "id": "recorded-winter",
   "metadata": {},
   "outputs": [
    {
     "data": {
      "text/plain": [
       "<function matplotlib.pyplot.show(close=None, block=None)>"
      ]
     },
     "execution_count": 59,
     "metadata": {},
     "output_type": "execute_result"
    },
    {
     "data": {
      "image/png": "[encoded data removed]",
      "text/plain": [
       "<Figure size 432x360 with 3 Axes>"
      ]
     },
     "metadata": {
      "needs_background": "light"
     },
     "output_type": "display_data"
    }
   ],
   "source": [
    "# Multiple Plots\n",
    "\n",
    "fig,ax = plt.subplots(1,3,figsize=(6,5))\n",
    "\n",
    "ax[0].imshow(S)\n",
    "ax[0].set_title('S')\n",
    "\n",
    "ax[1].imshow(Sinv)\n",
    "ax[1].set_title('S$^{-1}$')\n",
    "\n",
    "ax[2].imshow(SinvS)\n",
    "ax[2].set_title('S$^{-1}$S')\n",
    "\n",
    "plt.show"
   ]
  },
  {
   "cell_type": "code",
   "execution_count": null,
   "id": "martial-mobility",
   "metadata": {},
   "outputs": [],
   "source": []
  }
 ],
 "metadata": {
  "kernelspec": {
   "display_name": "Python 3",
   "language": "python",
   "name": "python3"
  },
  "language_info": {
   "codemirror_mode": {
    "name": "ipython",
    "version": 3
   },
   "file_extension": ".py",
   "mimetype": "text/x-python",
   "name": "python",
   "nbconvert_exporter": "python",
   "pygments_lexer": "ipython3",
   "version": "3.9.1"
  }
 },
 "nbformat": 4,
 "nbformat_minor": 5
}
